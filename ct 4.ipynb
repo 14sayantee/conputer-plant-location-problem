{
 "cells": [
  {
   "cell_type": "code",
   "execution_count": 1,
   "metadata": {},
   "outputs": [],
   "source": [
    "# Import PuLP modeler functions\n",
    "from pulp import *"
   ]
  },
  {
   "cell_type": "code",
   "execution_count": 2,
   "metadata": {},
   "outputs": [],
   "source": [
    "# Creates a list of all the supply nodes\n",
    "Plants = [\"San Francisco\",\n",
    "          \"Los Angeles\",\n",
    "          \"Phoenix\",\n",
    "          \"Denver\"]\n",
    "\n",
    "# Creates a dictionary of lists for the number of units of supply and fixed cost \n",
    "supplyData = {#Plant     Supply  Fixed Cost\n",
    "          \"San Francisco\":[1700, 70000],\n",
    "          \"Los Angeles\"  :[2000, 70000],\n",
    "          \"Phoenix\"      :[1700, 65000],\n",
    "          \"Denver\"       :[2000, 70000]\n",
    "          }\n",
    "\n",
    "# Creates a list of all demand nodes\n",
    "Stores = [\"San Diego\",\n",
    "          \"Barstow\",\n",
    "          \"Tucson\",\n",
    "          \"Dallas\"]\n",
    "\n",
    "# Creates a dictionary for the number of units of demand and store\n",
    "demand = { #Store    Demand\n",
    "          \"San Diego\":1700,\n",
    "          \"Barstow\"  :1000,\n",
    "          \"Tucson\"   :1500,\n",
    "          \"Dallas\"   :1200\n",
    "          }\n",
    "\n",
    "# Creates a list of costs for each transportation path in matrix format\n",
    "costs = [  #Stores\n",
    "         #SD BA TU DA\n",
    "         [5, 3, 2, 6], #SF\n",
    "         [4, 7, 8, 10],#LA    Plants\n",
    "         [6, 5, 3, 8], #PH\n",
    "         [9, 8, 6, 5]  #DE         \n",
    "         ]"
   ]
  },
  {
   "cell_type": "code",
   "execution_count": 3,
   "metadata": {},
   "outputs": [],
   "source": [
    "# Creates a list of tuples containing transporting routes\n",
    "Routes = [(p,s) for p in Plants for s in Stores]\n"
   ]
  },
  {
   "cell_type": "code",
   "execution_count": 4,
   "metadata": {},
   "outputs": [],
   "source": [
    "# Splits the dictionaries for supply data\n",
    "(supply,fixedCost) = splitDict(supplyData)"
   ]
  },
  {
   "cell_type": "code",
   "execution_count": 5,
   "metadata": {},
   "outputs": [],
   "source": [
    "# The cost data is made into a dictionary\n",
    "costs = makeDict([Plants,Stores],costs,0)"
   ]
  },
  {
   "cell_type": "code",
   "execution_count": 6,
   "metadata": {},
   "outputs": [],
   "source": [
    "# Creates the problem variables of the Flow \n",
    "flow = LpVariable.dicts(\"Route\",(Plants,Stores),0,None,LpInteger)"
   ]
  },
  {
   "cell_type": "code",
   "execution_count": 7,
   "metadata": {},
   "outputs": [],
   "source": [
    "# Creates the 'build' variables of whether to build the Plants or not\n",
    "build = LpVariable.dicts(\"BuildaPlant\",Plants,0,1,LpInteger)"
   ]
  },
  {
   "cell_type": "code",
   "execution_count": 8,
   "metadata": {},
   "outputs": [],
   "source": [
    "# Creates the 'prob' variable to contain the problem data, reads the data set\n",
    "prob = LpProblem(\"Computer Plant Problem\",LpMinimize)"
   ]
  },
  {
   "cell_type": "code",
   "execution_count": 9,
   "metadata": {},
   "outputs": [],
   "source": [
    "# The objective function is added to prob - The sum of the transportation costs and the building fixed costs\n",
    "#prob=transportation cost+fixed cost\n",
    "prob += lpSum([flow[p][s]*costs[p][s] for (p,s) in Routes])+lpSum([fixedCost[p]*build[p] for p in Plants]),\"Total Costs\"\n",
    "\n",
    "#the constraints\n",
    "# The Supply maximum constraints are added for each supply node (plant)\n",
    "for p in Plants:\n",
    "    prob += lpSum([flow[p][s] for s in Stores])<=supply[p]*build[p], \"Sum of Products out of Plant %s\"%p\n",
    "\n",
    "# The Demand minimum constraints are added for each demand node (store)\n",
    "for s in Stores:\n",
    "    prob += lpSum([flow[p][s] for p in Plants])>=demand[s], \"Sum of Products into Stores %s\"%s\n"
   ]
  },
  {
   "cell_type": "code",
   "execution_count": null,
   "metadata": {},
   "outputs": [],
   "source": []
  },
  {
   "cell_type": "code",
   "execution_count": 10,
   "metadata": {},
   "outputs": [
    {
     "data": {
      "text/plain": [
       "1"
      ]
     },
     "execution_count": 10,
     "metadata": {},
     "output_type": "execute_result"
    }
   ],
   "source": [
    "# The problem is solved using PuLP's choice of Solver\n",
    "prob.solve()"
   ]
  },
  {
   "cell_type": "code",
   "execution_count": 11,
   "metadata": {},
   "outputs": [
    {
     "name": "stdout",
     "output_type": "stream",
     "text": [
      "Status: Optimal\n"
     ]
    }
   ],
   "source": [
    "# The status of the solution is printed to the screen\n",
    "print(\"Status:\", LpStatus[prob.status])\n"
   ]
  },
  {
   "cell_type": "code",
   "execution_count": 12,
   "metadata": {},
   "outputs": [
    {
     "name": "stdout",
     "output_type": "stream",
     "text": [
      "BuildaPlant_Denver = 0.0\n",
      "BuildaPlant_Los_Angeles = 1.0\n",
      "BuildaPlant_Phoenix = 1.0\n",
      "BuildaPlant_San_Francisco = 1.0\n",
      "Route_Denver_Barstow = 0.0\n",
      "Route_Denver_Dallas = 0.0\n",
      "Route_Denver_San_Diego = 0.0\n",
      "Route_Denver_Tucson = 0.0\n",
      "Route_Los_Angeles_Barstow = 0.0\n",
      "Route_Los_Angeles_Dallas = 300.0\n",
      "Route_Los_Angeles_San_Diego = 1700.0\n",
      "Route_Los_Angeles_Tucson = 0.0\n",
      "Route_Phoenix_Barstow = 0.0\n",
      "Route_Phoenix_Dallas = 200.0\n",
      "Route_Phoenix_San_Diego = 0.0\n",
      "Route_Phoenix_Tucson = 1500.0\n",
      "Route_San_Francisco_Barstow = 1000.0\n",
      "Route_San_Francisco_Dallas = 700.0\n",
      "Route_San_Francisco_San_Diego = 0.0\n",
      "Route_San_Francisco_Tucson = 0.0\n"
     ]
    }
   ],
   "source": [
    "# Each of the variables is printed with it's resolved optimum value\n",
    "for v in prob.variables():\n",
    "    print(v.name, \"=\", v.varValue)"
   ]
  },
  {
   "cell_type": "code",
   "execution_count": 13,
   "metadata": {},
   "outputs": [
    {
     "name": "stdout",
     "output_type": "stream",
     "text": [
      "Total Costs =  228100.0\n"
     ]
    }
   ],
   "source": [
    "# The optimised objective function value is printed to the screen    \n",
    "print(\"Total Costs = \", value(prob.objective))"
   ]
  },
  {
   "cell_type": "code",
   "execution_count": null,
   "metadata": {},
   "outputs": [],
   "source": []
  }
 ],
 "metadata": {
  "kernelspec": {
   "display_name": "Python 3",
   "language": "python",
   "name": "python3"
  },
  "language_info": {
   "codemirror_mode": {
    "name": "ipython",
    "version": 3
   },
   "file_extension": ".py",
   "mimetype": "text/x-python",
   "name": "python",
   "nbconvert_exporter": "python",
   "pygments_lexer": "ipython3",
   "version": "3.6.4"
  }
 },
 "nbformat": 4,
 "nbformat_minor": 2
}
